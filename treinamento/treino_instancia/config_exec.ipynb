{
 "cells": [
  {
   "cell_type": "code",
   "execution_count": null,
   "metadata": {},
   "outputs": [],
   "source": [
    "## Verificar versão do python que executa esse arquivo !!!\n",
    "\n",
    "import boto3\n",
    "import sagemaker\n",
    "from sagemaker import get_execution_role\n",
    "from sagemaker.sklearn.estimator import SKLearn\n",
    "from sagemaker.inputs import TrainingInput\n",
    "\n",
    "# Definir variáveis de ambiente para as credenciais e região\n",
    "import boto3\n",
    "import sagemaker\n",
    "from sagemaker import Session"
   ]
  },
  {
   "cell_type": "code",
   "execution_count": null,
   "metadata": {},
   "outputs": [],
   "source": [
    "s3 = boto3.client('s3')\n",
    "response = s3.list_buckets()\n",
    "for bucket in response['Buckets'] :\n",
    "    print(f\"{bucket['Name']}\")\n",
    "\n",
    "boto_3 = boto3.Session()\n",
    "session = sagemaker.Session(boto_3)\n",
    "\n",
    "# Configurar o SageMaker\n",
    "sess = sagemaker.Session()\n",
    "role = 'arn:aws:iam::992382374294:role/service-role/AmazonSageMaker-ExecutionRole-20240615T181656'\n",
    "bucket = 'pb-aws-teste2-s3'\n",
    "train_data = f's3://{bucket}/modified_hotel_reservations.csv'\n"
   ]
  },
  {
   "cell_type": "code",
   "execution_count": null,
   "metadata": {},
   "outputs": [],
   "source": [
    "# Configurar o estimador SKLearn\n",
    "FRAMEWORK_VERSION = \"0.23-1\"\n",
    "sklearn_estimator = SKLearn(\n",
    "    entry_point=\"treinamento/treino_instancia/treinamento_script_instancia.py\",\n",
    "    role=role,\n",
    "    instance_count=1,\n",
    "    instance_type=\"ml.m5.xlarge\",\n",
    "    framework_version=FRAMEWORK_VERSION,\n",
    "    base_job_name=\"RF-custom-sklearn\",\n",
    "    hyperparameters={\n",
    "        \"n_estimators\": 100,\n",
    "        \"random_state\": 42,\n",
    "    },\n",
    "    use_spot_instances=True,\n",
    "    max_wait=7200,\n",
    "    max_run=3600,\n",
    "    sagemaker_session=sess\n",
    ")\n",
    "\n",
    "# Configurar input do treinamento\n",
    "train_input = TrainingInput(train_data, content_type='csv')\n"
   ]
  },
  {
   "cell_type": "code",
   "execution_count": null,
   "metadata": {},
   "outputs": [],
   "source": [
    "# Iniciar o treinamento\n",
    "sklearn_estimator.fit({'train': train_input})\n"
   ]
  }
 ],
 "metadata": {
  "kernelspec": {
   "display_name": "Python 3",
   "language": "python",
   "name": "python3"
  },
  "language_info": {
   "name": "python",
   "version": "3.8.10"
  }
 },
 "nbformat": 4,
 "nbformat_minor": 2
}
