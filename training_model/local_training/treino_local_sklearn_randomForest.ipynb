{
 "cells": [
  {
   "cell_type": "code",
   "execution_count": 1,
   "metadata": {},
   "outputs": [
    {
     "name": "stderr",
     "output_type": "stream",
     "text": [
      "c:\\Users\\pacie\\AppData\\Local\\Programs\\Python\\Python312\\Lib\\site-packages\\tqdm\\auto.py:21: TqdmWarning: IProgress not found. Please update jupyter and ipywidgets. See https://ipywidgets.readthedocs.io/en/stable/user_install.html\n",
      "  from .autonotebook import tqdm as notebook_tqdm\n"
     ]
    }
   ],
   "source": [
    "import pandas as pd\n",
    "import optuna\n",
    "from sklearn.model_selection import train_test_split\n",
    "from sklearn.preprocessing import StandardScaler, OneHotEncoder\n",
    "from sklearn.compose import ColumnTransformer\n",
    "from sklearn.pipeline import Pipeline\n",
    "from sklearn.ensemble import RandomForestClassifier\n",
    "from sklearn.metrics import classification_report, accuracy_score\n"
   ]
  },
  {
   "cell_type": "code",
   "execution_count": 2,
   "metadata": {},
   "outputs": [],
   "source": [
    "# Carregar o CSV \n",
    "import os\n",
    "\n",
    "\n",
    "file_path = os.path.join('..', 'data_config', 'modified_hotel_reservations.csv')\n",
    "df = pd.read_csv(file_path)\n",
    "# Testando sem as colunas id e status\n",
    "df = df.drop(columns=['Booking_ID', 'booking_status'])\n",
    "df['no_total_people'] = df['no_of_adults'] + df['no_of_children']\n",
    "df['no_total_nights'] = df['no_of_weekend_nights'] + df['no_of_week_nights']\n"
   ]
  },
  {
   "cell_type": "code",
   "execution_count": 3,
   "metadata": {},
   "outputs": [],
   "source": [
    "# Separar as features e o label\n",
    "X = df.drop('label_avg_price_per_room', axis=1)\n",
    "y = df['label_avg_price_per_room']\n",
    "\n",
    "# Identificar colunas categóricas e numéricas\n",
    "categorical_cols = X.select_dtypes(include=['object']).columns\n",
    "numeric_cols = X.select_dtypes(include=['number']).columns\n",
    "\n",
    "# Criar os transformers para os pipelines de pré-processamento\n",
    "numeric_transformer = StandardScaler()\n",
    "categorical_transformer = OneHotEncoder(handle_unknown='ignore')\n"
   ]
  },
  {
   "cell_type": "code",
   "execution_count": 4,
   "metadata": {},
   "outputs": [],
   "source": [
    "# Criar o pré-processador com ColumnTransformer\n",
    "preprocessor = ColumnTransformer(\n",
    "    transformers=[\n",
    "        ('num', numeric_transformer, numeric_cols),\n",
    "        ('cat', categorical_transformer, categorical_cols)\n",
    "    ])\n",
    "\n",
    "# Dividir os dados em conjuntos de treino e teste\n",
    "X_train, X_test, y_train, y_test = train_test_split(X, y, test_size=0.25, random_state=42)\n",
    "\n",
    "# Definir a função objetivo para o estudo do Optuna\n",
    "from sklearn.ensemble import RandomForestClassifier\n",
    "\n",
    "# Criar o modelo RandomForestClassifier com os hiperparâmetros aplicáveis\n",
    "rf = RandomForestClassifier(\n",
    "    n_estimators=500,\n",
    "    random_state=42\n",
    ")\n",
    "\n",
    "# Criar o pipeline incluindo o pré-processador e o modelo com RandomForestClassifier\n",
    "model = Pipeline(steps=[\n",
    "    ('preprocessor', preprocessor),\n",
    "    ('classifier', rf)\n",
    "])\n"
   ]
  },
  {
   "cell_type": "code",
   "execution_count": 5,
   "metadata": {},
   "outputs": [
    {
     "name": "stdout",
     "output_type": "stream",
     "text": [
      "Accuracy: 0.8585290550226045\n",
      "Classification Report:\n",
      "               precision    recall  f1-score   support\n",
      "\n",
      "           1       0.88      0.86      0.87      2757\n",
      "           2       0.81      0.84      0.83      3367\n",
      "           3       0.89      0.88      0.89      2945\n",
      "\n",
      "    accuracy                           0.86      9069\n",
      "   macro avg       0.86      0.86      0.86      9069\n",
      "weighted avg       0.86      0.86      0.86      9069\n",
      "\n"
     ]
    }
   ],
   "source": [
    "# Treinando o modelo com os melhores hiperparâmetros encontrados pelo GridSearchCV para XGBClassifier\n",
    "model.fit(X_train, y_train)\n",
    "\n",
    "# Prever nos dados de teste e calcular a acurácia com o modelo treinado\n",
    "y_pred = model.predict(X_test)\n",
    "\n",
    "print(\"Accuracy:\", accuracy_score(y_test, y_pred))\n",
    "print(\"Classification Report:\\n\", classification_report(y_test, y_pred))\n"
   ]
  }
 ],
 "metadata": {
  "kernelspec": {
   "display_name": "Python 3",
   "language": "python",
   "name": "python3"
  },
  "language_info": {
   "codemirror_mode": {
    "name": "ipython",
    "version": 3
   },
   "file_extension": ".py",
   "mimetype": "text/x-python",
   "name": "python",
   "nbconvert_exporter": "python",
   "pygments_lexer": "ipython3",
   "version": "3.12.4"
  }
 },
 "nbformat": 4,
 "nbformat_minor": 2
}
