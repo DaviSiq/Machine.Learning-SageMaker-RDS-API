{
 "cells": [
  {
   "cell_type": "code",
   "execution_count": null,
   "metadata": {},
   "outputs": [],
   "source": [
    "import argparse\n",
    "import os\n",
    "import pandas as pd\n",
    "\n",
    "from sklearn.metrics import accuracy_score, classification_report\n",
    "from sklearn.model_selection import train_test_split\n",
    "from sklearn.preprocessing import StandardScaler, OneHotEncoder\n",
    "from sklearn.compose import ColumnTransformer\n",
    "from sklearn.pipeline import Pipeline\n",
    "from sklearn.ensemble import RandomForestClassifier\n",
    "import joblib"
   ]
  },
  {
   "cell_type": "code",
   "execution_count": null,
   "metadata": {},
   "outputs": [],
   "source": [
    "if __name__ == '__main__':\n",
    "    # Parsear argumentos enviados pelo estimator do SageMaker\n",
    "    parser = argparse.ArgumentParser()\n",
    "\n",
    "    # Hiperparâmetros enviados pelo SageMaker\n",
    "    parser.add_argument('--n_estimators', type=int, default=100)\n",
    "    parser.add_argument('--random_state', type=int, default=0)\n",
    "\n",
    "    # Argumentos de ambiente do SageMaker\n",
    "    parser.add_argument('--model-dir', type=str, default=os.environ['SM_MODEL_DIR'])\n",
    "    parser.add_argument('--train', type=str, default=os.environ['SM_CHANNEL_TRAIN'])\n",
    "\n",
    "    args = parser.parse_args()\n",
    "    # Carregar os dados de treinamento do S3\n",
    "    train_data = pd.read_csv(os.path.join(args.train, 'modified_hotel_reservations.csv'))\n",
    "    train_data = train_data.drop(columns=['Booking_ID', 'booking_status'])\n",
    "    # Separar as features e o label\n",
    "    X = train_data.drop('label_avg_price_per_room', axis=1)\n",
    "    y = train_data['label_avg_price_per_room']\n",
    "\n",
    "    # Identificar colunas categóricas e numéricas\n",
    "    categorical_cols = X.select_dtypes(include=['object']).columns\n",
    "    numeric_cols = X.select_dtypes(include=['number']).columns\n",
    "\n",
    "    # Criar os transformers para os pipelines de pré-processamento\n",
    "    numeric_transformer = StandardScaler()\n",
    "    categorical_transformer = OneHotEncoder(handle_unknown='ignore')\n",
    "\n",
    "    # Criar o pré-processador com ColumnTransformer\n",
    "    preprocessor = ColumnTransformer(\n",
    "        transformers=[\n",
    "            ('num', numeric_transformer, numeric_cols),\n",
    "            ('cat', categorical_transformer, categorical_cols)\n",
    "        ])\n",
    "\n",
    "    # Criar o pipeline incluindo o pré-processador e o modelo\n",
    "    model = Pipeline(steps=[\n",
    "        ('preprocessor', preprocessor),\n",
    "        ('classifier', RandomForestClassifier(\n",
    "            n_estimators=500,\n",
    "            random_state=42))\n",
    "        ])\n",
    "\n",
    "    # Dividir os dados em conjuntos de treino e teste\n",
    "    X_train, X_test, y_train, y_test = train_test_split(X, y, test_size=0.3, random_state=42)\n",
    "\n",
    "    # Treinar o modelo\n",
    "    model.fit(X_train, y_train)\n",
    "\n",
    "    # Prever nos dados de teste e calcular a acurácia\n",
    "    y_pred = model.predict(X_test)\n",
    "    accuracy = accuracy_score(y_test, y_pred)\n",
    "    print(\"Accuracy:\", accuracy)\n",
    "    print(\"Classification Report:\\n\", classification_report(y_test, y_pred))\n",
    "\n",
    "    # Salvar o modelo treinado no diretório especificado pelo SageMaker\n",
    "    joblib.dump(model, os.path.join(args.model_dir, 'model.joblib'))"
   ]
  },
  {
   "cell_type": "code",
   "execution_count": null,
   "metadata": {},
   "outputs": [],
   "source": [
    "def model_fn(model_dir):\n",
    "    \"\"\"Carregar o modelo treinado.\"\"\"\n",
    "    model = joblib.load(os.path.join(model_dir, 'model.joblib'))\n",
    "    return model\n"
   ]
  }
 ],
 "metadata": {
  "kernelspec": {
   "display_name": "Python 3",
   "language": "python",
   "name": "python3"
  },
  "language_info": {
   "name": "python",
   "version": "3.12.4"
  }
 },
 "nbformat": 4,
 "nbformat_minor": 2
}
